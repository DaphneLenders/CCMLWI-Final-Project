{
 "cells": [
  {
   "cell_type": "code",
   "execution_count": 1,
   "metadata": {},
   "outputs": [
    {
     "name": "stderr",
     "output_type": "stream",
     "text": [
      "C:\\Users\\frank\\Anaconda3\\lib\\site-packages\\sklearn\\cross_validation.py:41: DeprecationWarning: This module was deprecated in version 0.18 in favor of the model_selection module into which all the refactored classes and functions are moved. Also note that the interface of the new CV iterators are different from that of this module. This module will be removed in 0.20.\n",
      "  \"This module will be removed in 0.20.\", DeprecationWarning)\n"
     ]
    }
   ],
   "source": [
    "import sys\n",
    "import pandas as pd\n",
    "import numpy as np\n",
    "import matplotlib.pyplot as plt\n",
    "import seaborn as sns\n",
    "\n",
    "import re\n",
    "import nltk\n",
    "from nltk.corpus import stopwords \n",
    "from nltk.stem.porter import PorterStemmer\n",
    "from nltk.tokenize import word_tokenize\n",
    "import string\n",
    "\n",
    "from sklearn.model_selection import train_test_split,KFold\n",
    "from sklearn.metrics import confusion_matrix,roc_auc_score,log_loss\n",
    "from sklearn.naive_bayes import MultinomialNB\n",
    "from sklearn.feature_extraction.text import CountVectorizer, TfidfVectorizer\n",
    "import xgboost as xgb \n",
    "seed = 4353"
   ]
  },
  {
   "cell_type": "code",
   "execution_count": 2,
   "metadata": {},
   "outputs": [
    {
     "data": {
      "text/plain": [
       "'C:\\\\Users\\\\frank\\\\Anaconda3\\\\python.exe'"
      ]
     },
     "execution_count": 2,
     "metadata": {},
     "output_type": "execute_result"
    }
   ],
   "source": [
    "import sys\n",
    "sys.executable"
   ]
  },
  {
   "cell_type": "code",
   "execution_count": 3,
   "metadata": {
    "collapsed": true
   },
   "outputs": [],
   "source": [
    "train = pd.read_csv('train.csv')\n",
    "test = pd.read_csv('test.csv')"
   ]
  },
  {
   "cell_type": "code",
   "execution_count": 4,
   "metadata": {},
   "outputs": [
    {
     "name": "stdout",
     "output_type": "stream",
     "text": [
      "Number of rows and columns in data set (19579, 3)\n"
     ]
    },
    {
     "data": {
      "text/html": [
       "<div>\n",
       "<style>\n",
       "    .dataframe thead tr:only-child th {\n",
       "        text-align: right;\n",
       "    }\n",
       "\n",
       "    .dataframe thead th {\n",
       "        text-align: left;\n",
       "    }\n",
       "\n",
       "    .dataframe tbody tr th {\n",
       "        vertical-align: top;\n",
       "    }\n",
       "</style>\n",
       "<table border=\"1\" class=\"dataframe\">\n",
       "  <thead>\n",
       "    <tr style=\"text-align: right;\">\n",
       "      <th></th>\n",
       "      <th>id</th>\n",
       "      <th>text</th>\n",
       "      <th>author</th>\n",
       "    </tr>\n",
       "  </thead>\n",
       "  <tbody>\n",
       "    <tr>\n",
       "      <th>0</th>\n",
       "      <td>id26305</td>\n",
       "      <td>This process, however, afforded me no means of...</td>\n",
       "      <td>EAP</td>\n",
       "    </tr>\n",
       "    <tr>\n",
       "      <th>1</th>\n",
       "      <td>id17569</td>\n",
       "      <td>It never once occurred to me that the fumbling...</td>\n",
       "      <td>HPL</td>\n",
       "    </tr>\n",
       "    <tr>\n",
       "      <th>2</th>\n",
       "      <td>id11008</td>\n",
       "      <td>In his left hand was a gold snuff box, from wh...</td>\n",
       "      <td>EAP</td>\n",
       "    </tr>\n",
       "    <tr>\n",
       "      <th>3</th>\n",
       "      <td>id27763</td>\n",
       "      <td>How lovely is spring As we looked from Windsor...</td>\n",
       "      <td>MWS</td>\n",
       "    </tr>\n",
       "    <tr>\n",
       "      <th>4</th>\n",
       "      <td>id12958</td>\n",
       "      <td>Finding nothing else, not even gold, the Super...</td>\n",
       "      <td>HPL</td>\n",
       "    </tr>\n",
       "  </tbody>\n",
       "</table>\n",
       "</div>"
      ],
      "text/plain": [
       "        id                                               text author\n",
       "0  id26305  This process, however, afforded me no means of...    EAP\n",
       "1  id17569  It never once occurred to me that the fumbling...    HPL\n",
       "2  id11008  In his left hand was a gold snuff box, from wh...    EAP\n",
       "3  id27763  How lovely is spring As we looked from Windsor...    MWS\n",
       "4  id12958  Finding nothing else, not even gold, the Super...    HPL"
      ]
     },
     "execution_count": 4,
     "metadata": {},
     "output_type": "execute_result"
    }
   ],
   "source": [
    "print('Number of rows and columns in data set',train.shape)\n",
    "train.head()"
   ]
  },
  {
   "cell_type": "code",
   "execution_count": 5,
   "metadata": {},
   "outputs": [
    {
     "data": {
      "text/plain": [
       "EAP    7900\n",
       "MWS    6044\n",
       "HPL    5635\n",
       "Name: author, dtype: int64"
      ]
     },
     "execution_count": 5,
     "metadata": {},
     "output_type": "execute_result"
    }
   ],
   "source": [
    "train['author'].value_counts()"
   ]
  },
  {
   "cell_type": "code",
   "execution_count": 6,
   "metadata": {},
   "outputs": [
    {
     "data": {
      "image/png": "[encoded data removed]",
      "text/plain": [
       "<matplotlib.figure.Figure at 0x2551d11acc0>"
      ]
     },
     "metadata": {},
     "output_type": "display_data"
    }
   ],
   "source": [
    "plt.figure(figsize=(14,5))\n",
    "sns.countplot(train['author'],)\n",
    "plt.xlabel('Author')\n",
    "plt.title('Target variable distribution')\n",
    "plt.show()"
   ]
  },
  {
   "cell_type": "code",
   "execution_count": 7,
   "metadata": {
    "collapsed": true
   },
   "outputs": [],
   "source": [
    "review = re.sub('[^A-Za-z0-9]',\" \",train['text'][0]) "
   ]
  },
  {
   "cell_type": "code",
   "execution_count": 8,
   "metadata": {},
   "outputs": [
    {
     "name": "stdout",
     "output_type": "stream",
     "text": [
      "Word Tokenize:\n",
      " ['This', 'process', ',', 'however', ',', 'afforded', 'me', 'no', 'means', 'of', 'ascertaining', 'the', 'dimensions', 'of', 'my', 'dungeon', ';', 'as', 'I', 'might', 'make', 'its', 'circuit', ',', 'and', 'return', 'to', 'the', 'point', 'whence', 'I', 'set', 'out', ',', 'without', 'being', 'aware', 'of', 'the', 'fact', ';', 'so', 'perfectly', 'uniform', 'seemed', 'the', 'wall', '.']\n",
      "\n",
      "Removal of Stopwords:\n",
      " ['process,', 'however,', 'afforded', 'means', 'ascertaining', 'dimensions', 'dungeon;', 'might', 'make', 'circuit,', 'return', 'point', 'whence', 'set', 'out,', 'without', 'aware', 'fact;', 'perfectly', 'uniform', 'seemed', 'wall.']\n",
      "\n",
      "Stopwords in the sentence:\n",
      " ['this', 'me', 'no', 'of', 'the', 'of', 'my', 'as', 'i', 'its', 'and', 'to', 'the', 'i', 'being', 'of', 'the', 'so', 'the']\n",
      "\n",
      "Stemming of word:\n",
      " ['thi', 'process,', 'however,', 'afford', 'me', 'no', 'mean', 'of', 'ascertain', 'the', 'dimens', 'of', 'my', 'dungeon;', 'as', 'i', 'might', 'make', 'it', 'circuit,', 'and', 'return', 'to', 'the', 'point', 'whenc', 'i', 'set', 'out,', 'without', 'be', 'awar', 'of', 'the', 'fact;', 'so', 'perfectli', 'uniform', 'seem', 'the', 'wall.']\n"
     ]
    }
   ],
   "source": [
    "review = word_tokenize(train['text'][0]) \n",
    "print('Word Tokenize:\\n',review)\n",
    "\n",
    "review = [word for word in str(train['text'][0]).lower().split() if  word not in set(stopwords.words('english'))]\n",
    "print('\\nRemoval of Stopwords:\\n',review)\n",
    "\n",
    "review = [word for word in str(train['text'][0]).lower().split() if  word in set(stopwords.words('english'))]\n",
    "print('\\nStopwords in the sentence:\\n',review)\n",
    "\n",
    "ps = PorterStemmer()\n",
    "review = [ps.stem(word) for word in str(train['text'][0]).lower().split()]\n",
    "print('\\nStemming of word:\\n',review)"
   ]
  },
  {
   "cell_type": "code",
   "execution_count": 9,
   "metadata": {
    "collapsed": true
   },
   "outputs": [],
   "source": [
    "def clean_text(df):\n",
    "    ps = PorterStemmer()\n",
    "    corpus = []\n",
    "    for i in range(0, df.shape[0]):        \n",
    "        review = re.sub('[^A-Za-z0-9]',\" \",df['text'][i])\n",
    "        review = word_tokenize(review)        \n",
    "        review = [word for word in review if word.lower() not in set(stopwords.words('english'))]\n",
    "        review = [ps.stem(word) for word in review]\n",
    "        review = ' '.join(review)\n",
    "        corpus.append(review)\n",
    "    \n",
    "    return corpus"
   ]
  },
  {
   "cell_type": "code",
   "execution_count": 10,
   "metadata": {
    "collapsed": true
   },
   "outputs": [],
   "source": [
    "corp_train = clean_text(train)\n",
    "corp_test = clean_text(test)\n",
    "train['clean_text'] = corp_train\n",
    "test['clean_text'] = corp_test\n",
    "del corp_train,corp_test"
   ]
  },
  {
   "cell_type": "code",
   "execution_count": 11,
   "metadata": {
    "collapsed": true
   },
   "outputs": [],
   "source": [
    "def text_len(df):\n",
    "    #i = ['text']\n",
    "    df['num_words'] = df['text'].apply(lambda x: len(str(x).split()))\n",
    "    df['num_uniq_words'] = df['text'].apply(lambda x: len(set(str(x).split())))\n",
    "    df['num_chars'] = df['text'].apply(lambda x: len(str(x)))\n",
    "    df['num_stopwords'] = df['text'].apply(lambda x: len([w for w in str(x).lower().split() \n",
    "                                                          if w in set(stopwords.words('english'))]))\n",
    "    df['num_punctuations'] = df['text'].apply(lambda x: len([w for w in str(x) if w in string.punctuation]))\n",
    "    df['num_words_upper'] = df['text'].apply(lambda x: len([w for w in str(x).split() if w.isupper()]))\n",
    "    df['num_words_title'] = df['text'].apply(lambda x: len([w for w in str(x).split() if w.istitle()]))\n",
    "    df['mean_word_len'] = df['text'].apply(lambda x: np.mean([len(w) for w in str(x).split()]))\n",
    "\n",
    "text_len(train)\n",
    "text_len(test)"
   ]
  },
  {
   "cell_type": "code",
   "execution_count": 12,
   "metadata": {},
   "outputs": [
    {
     "data": {
      "image/png": "[encoded data removed]",
      "text/plain": [
       "<matplotlib.figure.Figure at 0x2551e1e5860>"
      ]
     },
     "metadata": {},
     "output_type": "display_data"
    }
   ],
   "source": [
    "plt.figure(figsize=(14,6))\n",
    "plt.subplot(211)\n",
    "sns.heatmap(pd.crosstab(train['author'],train['num_words']),cmap='gist_earth',xticklabels=False)\n",
    "plt.xlabel('Original text word count')\n",
    "plt.ylabel('Author')\n",
    "\n",
    "plt.subplot(212)\n",
    "sns.heatmap(pd.crosstab(train['author'],train['num_uniq_words']),cmap='gist_heat',xticklabels=False)\n",
    "plt.xlabel('Unique text word count')\n",
    "plt.ylabel('Author')\n",
    "plt.tight_layout()\n",
    "plt.show()"
   ]
  },
  {
   "cell_type": "code",
   "execution_count": 13,
   "metadata": {},
   "outputs": [
    {
     "data": {
      "image/png": "[encoded data removed]",
      "text/plain": [
       "<matplotlib.figure.Figure at 0x2551ceac128>"
      ]
     },
     "metadata": {},
     "output_type": "display_data"
    }
   ],
   "source": [
    "plt.figure(figsize=(14,6))\n",
    "sns.distplot(train['num_words'],bins=100,color='r')\n",
    "plt.title('Distribution of original text words')\n",
    "plt.show()"
   ]
  },
  {
   "cell_type": "code",
   "execution_count": 14,
   "metadata": {},
   "outputs": [
    {
     "data": {
      "image/png": "[encoded data removed]",
      "text/plain": [
       "<matplotlib.figure.Figure at 0x2551e393320>"
      ]
     },
     "metadata": {},
     "output_type": "display_data"
    }
   ],
   "source": [
    "train['num_uniq_words'].value_counts()[0:10].plot(kind='bar',color=['r','y'])\n",
    "plt.xlabel('Original text word count')\n",
    "plt.ylabel('Count')\n",
    "plt.show()"
   ]
  },
  {
   "cell_type": "code",
   "execution_count": 15,
   "metadata": {},
   "outputs": [
    {
     "data": {
      "image/png": "[encoded data removed]",
      "text/plain": [
       "<matplotlib.figure.Figure at 0x2551e3754e0>"
      ]
     },
     "metadata": {},
     "output_type": "display_data"
    }
   ],
   "source": [
    "plt.figure(figsize=(14,6))\n",
    "sns.heatmap(train.corr(),annot=True)\n",
    "plt.show()"
   ]
  },
  {
   "cell_type": "code",
   "execution_count": 16,
   "metadata": {
    "collapsed": true
   },
   "outputs": [],
   "source": [
    "cv =CountVectorizer(max_features=2000,ngram_range=(1,3),dtype=np.int8,stop_words='english')\n",
    "X_cv = cv.fit_transform(train['clean_text']).toarray()\n",
    "X_test_cv = cv.fit_transform(test['clean_text']).toarray()"
   ]
  },
  {
   "cell_type": "code",
   "execution_count": 17,
   "metadata": {
    "collapsed": true
   },
   "outputs": [],
   "source": [
    "author_name = {'EAP':0,'HPL':1,'MWS':2}\n",
    "y = train['author'].map(author_name) "
   ]
  },
  {
   "cell_type": "code",
   "execution_count": 18,
   "metadata": {
    "collapsed": true
   },
   "outputs": [],
   "source": [
    "tfidf = TfidfVectorizer(max_features=2000,dtype=np.float32,analyzer='word',\n",
    "                        ngram_range=(1, 3),use_idf=True, smooth_idf=True, \n",
    "                        sublinear_tf=True)\n",
    "X_tf = tfidf.fit_transform(train['clean_text']).toarray()\n",
    "X_test_tf = tfidf.fit_transform(test['clean_text']).toarray()"
   ]
  },
  {
   "cell_type": "code",
   "execution_count": 19,
   "metadata": {},
   "outputs": [
    {
     "name": "stdout",
     "output_type": "stream",
     "text": [
      "1 of KFlod 10\n",
      "2 of KFlod 10\n",
      "3 of KFlod 10\n",
      "4 of KFlod 10\n",
      "5 of KFlod 10\n",
      "6 of KFlod 10\n",
      "7 of KFlod 10\n",
      "8 of KFlod 10\n",
      "9 of KFlod 10\n",
      "10 of KFlod 10\n",
      "[0.6429962378100883, 0.64558436917013473, 0.62894661723356615, 0.65331818533626995, 0.66290949834984436, 0.65025300581896373, 0.64577998503662248, 0.65046655809162868, 0.65250254836255761, 0.64619432149338596]\n",
      "Mean accuracy score 0.64789513267\n",
      "confusion matrix:\n",
      " [[649  68  91]\n",
      " [107 398  43]\n",
      " [121  41 439]]\n"
     ]
    }
   ],
   "source": [
    "mNB = MultinomialNB()\n",
    "\n",
    "kf = KFold(n_splits=10,shuffle=True,random_state=seed)\n",
    "pred_test_full = 0\n",
    "cv_score = []\n",
    "i=1\n",
    "for train_index,test_index in kf.split(X_tf):\n",
    "    print('{} of KFlod {}'.format(i,kf.n_splits))    \n",
    "    xtr,xvl = X_tf[train_index], X_tf[test_index]\n",
    "    ytr,yvl = y[train_index], y[test_index]\n",
    "    \n",
    "    mNB.fit(xtr,ytr)\n",
    "    y_mNB = mNB.predict(xvl)\n",
    "    cv_score.append(log_loss(yvl,mNB.predict_proba(xvl)))    \n",
    "    pred_test_full += mNB.predict_proba(X_test_tf)\n",
    "    i+=1\n",
    "#roc_auc_score(yvl,mNB.predict_proba(xvl)[:,1]) # not for multi class\n",
    "print(cv_score)\n",
    "print('Mean accuracy score',np.mean(cv_score))\n",
    "print('confusion matrix:\\n',confusion_matrix(yvl,y_mNB))\n",
    "del xtr,ytr,xvl,yvl"
   ]
  },
  {
   "cell_type": "code",
   "execution_count": 20,
   "metadata": {
    "collapsed": true
   },
   "outputs": [],
   "source": [
    "unwanted = ['text','id','clean_text']\n",
    "X_tf = np.concatenate((X_tf,train.drop(unwanted+['author'],axis=1).values),axis=1)\n",
    "X_test_tf = np.concatenate((X_test_tf,test.drop(unwanted,axis=1).values),axis=1)"
   ]
  },
  {
   "cell_type": "code",
   "execution_count": 23,
   "metadata": {
    "collapsed": true
   },
   "outputs": [],
   "source": [
    "def runXGB(xtrain,xvalid,ytrain,yvalid,xtest,eta=0.1,early_stop=50,max_depth=5,n_rounds=1000):\n",
    "    \n",
    "    params = {        \n",
    "        'objective':'multi:softprob',\n",
    "        'learning_rate':eta,\n",
    "        'max_depth':max_depth,\n",
    "        'num_class':3,\n",
    "        'subsample':0.8,\n",
    "        'colsample_bytree':0.8,\n",
    "        'eval_metric':'mlogloss',\n",
    "        'min_child_weight':10,\n",
    "        'reg_alpha':1.5, \n",
    "        'reg_lambda':5,\n",
    "        'scale_pos_weight':1,  \n",
    "        #'verbose':0,\n",
    "        'seed':seed,        \n",
    "        'n_thread':-1 \n",
    "    }\n",
    "    \n",
    "    dtrain =xgb.DMatrix(xtrain,label=ytrain)\n",
    "    dvalid = xgb.DMatrix(xvalid,label=yvalid)    \n",
    "    dtest = xgb.DMatrix(xtest)\n",
    "    watchlist = [(dtrain,'train'),(dvalid,'test')]\n",
    "    \n",
    "    model = xgb.train(params,dtrain,n_rounds,evals=watchlist,early_stopping_rounds=early_stop,verbose_eval=10)\n",
    "    pred = model.predict(dvalid,ntree_limit = model.best_ntree_limit)\n",
    "    pred_test = model.predict(dtest,ntree_limit = model.best_ntree_limit)\n",
    "    \n",
    "    return pred_test,model"
   ]
  },
  {
   "cell_type": "code",
   "execution_count": 27,
   "metadata": {},
   "outputs": [
    {
     "name": "stdout",
     "output_type": "stream",
     "text": [
      "1 of KFold 5\n",
      "[0]\ttrain-mlogloss:1.04405\ttest-mlogloss:1.04754\n",
      "Multiple eval metrics have been passed: 'test-mlogloss' will be used for early stopping.\n",
      "\n",
      "Will train until test-mlogloss hasn't improved in 50 rounds.\n",
      "[10]\ttrain-mlogloss:0.858056\ttest-mlogloss:0.887511\n",
      "[20]\ttrain-mlogloss:0.793501\ttest-mlogloss:0.832284\n",
      "[30]\ttrain-mlogloss:0.74316\ttest-mlogloss:0.79161\n",
      "[40]\ttrain-mlogloss:0.708535\ttest-mlogloss:0.763642\n",
      "[50]\ttrain-mlogloss:0.678459\ttest-mlogloss:0.741185\n",
      "[60]\ttrain-mlogloss:0.655026\ttest-mlogloss:0.726827\n",
      "[70]\ttrain-mlogloss:0.63592\ttest-mlogloss:0.711842\n",
      "[80]\ttrain-mlogloss:0.616699\ttest-mlogloss:0.699455\n",
      "[90]\ttrain-mlogloss:0.599648\ttest-mlogloss:0.69016\n",
      "[100]\ttrain-mlogloss:0.583664\ttest-mlogloss:0.681595\n",
      "[110]\ttrain-mlogloss:0.568791\ttest-mlogloss:0.675375\n",
      "[120]\ttrain-mlogloss:0.557459\ttest-mlogloss:0.669973\n",
      "[130]\ttrain-mlogloss:0.54566\ttest-mlogloss:0.665766\n",
      "[140]\ttrain-mlogloss:0.535296\ttest-mlogloss:0.661456\n",
      "[150]\ttrain-mlogloss:0.526251\ttest-mlogloss:0.656004\n",
      "[160]\ttrain-mlogloss:0.517331\ttest-mlogloss:0.653946\n",
      "[170]\ttrain-mlogloss:0.50792\ttest-mlogloss:0.650709\n",
      "[180]\ttrain-mlogloss:0.500147\ttest-mlogloss:0.647532\n",
      "[190]\ttrain-mlogloss:0.493034\ttest-mlogloss:0.644904\n",
      "2 of KFold 5\n",
      "[0]\ttrain-mlogloss:1.04437\ttest-mlogloss:1.04835\n",
      "Multiple eval metrics have been passed: 'test-mlogloss' will be used for early stopping.\n",
      "\n",
      "Will train until test-mlogloss hasn't improved in 50 rounds.\n",
      "[10]\ttrain-mlogloss:0.86399\ttest-mlogloss:0.87702\n",
      "[20]\ttrain-mlogloss:0.797425\ttest-mlogloss:0.818214\n",
      "[30]\ttrain-mlogloss:0.752734\ttest-mlogloss:0.779599\n",
      "[40]\ttrain-mlogloss:0.715445\ttest-mlogloss:0.748365\n",
      "[50]\ttrain-mlogloss:0.686138\ttest-mlogloss:0.726238\n",
      "[60]\ttrain-mlogloss:0.661151\ttest-mlogloss:0.708851\n",
      "[70]\ttrain-mlogloss:0.639561\ttest-mlogloss:0.692469\n",
      "[80]\ttrain-mlogloss:0.621112\ttest-mlogloss:0.682429\n",
      "[90]\ttrain-mlogloss:0.60331\ttest-mlogloss:0.672976\n",
      "[100]\ttrain-mlogloss:0.588999\ttest-mlogloss:0.66272\n",
      "[110]\ttrain-mlogloss:0.57588\ttest-mlogloss:0.65625\n",
      "[120]\ttrain-mlogloss:0.563179\ttest-mlogloss:0.648274\n",
      "[130]\ttrain-mlogloss:0.552789\ttest-mlogloss:0.641792\n",
      "[140]\ttrain-mlogloss:0.542103\ttest-mlogloss:0.637183\n",
      "[150]\ttrain-mlogloss:0.532429\ttest-mlogloss:0.633459\n",
      "[160]\ttrain-mlogloss:0.522683\ttest-mlogloss:0.629505\n",
      "[170]\ttrain-mlogloss:0.513983\ttest-mlogloss:0.625344\n",
      "[180]\ttrain-mlogloss:0.506141\ttest-mlogloss:0.621897\n",
      "[190]\ttrain-mlogloss:0.498535\ttest-mlogloss:0.620042\n",
      "3 of KFold 5\n",
      "[0]\ttrain-mlogloss:1.04224\ttest-mlogloss:1.05\n",
      "Multiple eval metrics have been passed: 'test-mlogloss' will be used for early stopping.\n",
      "\n",
      "Will train until test-mlogloss hasn't improved in 50 rounds.\n",
      "[10]\ttrain-mlogloss:0.862813\ttest-mlogloss:0.893742\n",
      "[20]\ttrain-mlogloss:0.7946\ttest-mlogloss:0.835259\n",
      "[30]\ttrain-mlogloss:0.745995\ttest-mlogloss:0.797149\n",
      "[40]\ttrain-mlogloss:0.709472\ttest-mlogloss:0.77059\n",
      "[50]\ttrain-mlogloss:0.678523\ttest-mlogloss:0.74845\n",
      "[60]\ttrain-mlogloss:0.653327\ttest-mlogloss:0.732434\n",
      "[70]\ttrain-mlogloss:0.631971\ttest-mlogloss:0.717617\n",
      "[80]\ttrain-mlogloss:0.611701\ttest-mlogloss:0.705036\n",
      "[90]\ttrain-mlogloss:0.595062\ttest-mlogloss:0.69511\n",
      "[100]\ttrain-mlogloss:0.580057\ttest-mlogloss:0.686033\n",
      "[110]\ttrain-mlogloss:0.566104\ttest-mlogloss:0.679121\n",
      "[120]\ttrain-mlogloss:0.554853\ttest-mlogloss:0.671973\n",
      "[130]\ttrain-mlogloss:0.54375\ttest-mlogloss:0.665941\n",
      "[140]\ttrain-mlogloss:0.533355\ttest-mlogloss:0.660497\n",
      "[150]\ttrain-mlogloss:0.524727\ttest-mlogloss:0.655336\n",
      "[160]\ttrain-mlogloss:0.515544\ttest-mlogloss:0.652101\n",
      "[170]\ttrain-mlogloss:0.507885\ttest-mlogloss:0.649753\n",
      "[180]\ttrain-mlogloss:0.499159\ttest-mlogloss:0.646528\n",
      "[190]\ttrain-mlogloss:0.492279\ttest-mlogloss:0.642995\n",
      "4 of KFold 5\n",
      "[0]\ttrain-mlogloss:1.04488\ttest-mlogloss:1.04835\n",
      "Multiple eval metrics have been passed: 'test-mlogloss' will be used for early stopping.\n",
      "\n",
      "Will train until test-mlogloss hasn't improved in 50 rounds.\n",
      "[10]\ttrain-mlogloss:0.860465\ttest-mlogloss:0.888708\n",
      "[20]\ttrain-mlogloss:0.79004\ttest-mlogloss:0.830426\n",
      "[30]\ttrain-mlogloss:0.744344\ttest-mlogloss:0.793846\n",
      "[40]\ttrain-mlogloss:0.707957\ttest-mlogloss:0.767293\n",
      "[50]\ttrain-mlogloss:0.679566\ttest-mlogloss:0.746279\n",
      "[60]\ttrain-mlogloss:0.655566\ttest-mlogloss:0.727676\n",
      "[70]\ttrain-mlogloss:0.632952\ttest-mlogloss:0.712245\n",
      "[80]\ttrain-mlogloss:0.615241\ttest-mlogloss:0.701224\n",
      "[90]\ttrain-mlogloss:0.599383\ttest-mlogloss:0.689681\n",
      "[100]\ttrain-mlogloss:0.583215\ttest-mlogloss:0.679892\n",
      "[110]\ttrain-mlogloss:0.570461\ttest-mlogloss:0.672004\n",
      "[120]\ttrain-mlogloss:0.556907\ttest-mlogloss:0.664156\n",
      "[130]\ttrain-mlogloss:0.54666\ttest-mlogloss:0.658171\n",
      "[140]\ttrain-mlogloss:0.536437\ttest-mlogloss:0.651851\n",
      "[150]\ttrain-mlogloss:0.526899\ttest-mlogloss:0.647422\n",
      "[160]\ttrain-mlogloss:0.518066\ttest-mlogloss:0.642925\n",
      "[170]\ttrain-mlogloss:0.509402\ttest-mlogloss:0.639108\n",
      "[180]\ttrain-mlogloss:0.502315\ttest-mlogloss:0.635653\n",
      "[190]\ttrain-mlogloss:0.495551\ttest-mlogloss:0.63309\n",
      "5 of KFold 5\n",
      "[0]\ttrain-mlogloss:1.03258\ttest-mlogloss:1.03111\n",
      "Multiple eval metrics have been passed: 'test-mlogloss' will be used for early stopping.\n",
      "\n",
      "Will train until test-mlogloss hasn't improved in 50 rounds.\n",
      "[10]\ttrain-mlogloss:0.865921\ttest-mlogloss:0.880402\n",
      "[20]\ttrain-mlogloss:0.797586\ttest-mlogloss:0.820167\n",
      "[30]\ttrain-mlogloss:0.750014\ttest-mlogloss:0.783946\n",
      "[40]\ttrain-mlogloss:0.712802\ttest-mlogloss:0.758205\n",
      "[50]\ttrain-mlogloss:0.682337\ttest-mlogloss:0.737385\n",
      "[60]\ttrain-mlogloss:0.656514\ttest-mlogloss:0.722186\n",
      "[70]\ttrain-mlogloss:0.63631\ttest-mlogloss:0.706456\n",
      "[80]\ttrain-mlogloss:0.616584\ttest-mlogloss:0.69581\n",
      "[90]\ttrain-mlogloss:0.599012\ttest-mlogloss:0.684376\n",
      "[100]\ttrain-mlogloss:0.584216\ttest-mlogloss:0.674797\n",
      "[110]\ttrain-mlogloss:0.571403\ttest-mlogloss:0.667496\n",
      "[120]\ttrain-mlogloss:0.56016\ttest-mlogloss:0.661729\n",
      "[130]\ttrain-mlogloss:0.5488\ttest-mlogloss:0.656099\n",
      "[140]\ttrain-mlogloss:0.538473\ttest-mlogloss:0.650963\n",
      "[150]\ttrain-mlogloss:0.529046\ttest-mlogloss:0.646841\n",
      "[160]\ttrain-mlogloss:0.520044\ttest-mlogloss:0.642746\n",
      "[170]\ttrain-mlogloss:0.5125\ttest-mlogloss:0.638955\n",
      "[180]\ttrain-mlogloss:0.504437\ttest-mlogloss:0.636288\n",
      "[190]\ttrain-mlogloss:0.496225\ttest-mlogloss:0.634542\n"
     ]
    }
   ],
   "source": [
    "kf = KFold(n_splits=5,shuffle=True,random_state=seed)\n",
    "pred_test_full = 0\n",
    "cv_score = []\n",
    "i=1\n",
    "for train_index,test_index in kf.split(X_tf):\n",
    "    print('{} of KFold {}'.format(i,kf.n_splits))    \n",
    "    xtr,xvl = X_tf[train_index], X_tf[test_index]\n",
    "    ytr,yvl = y[train_index], y[test_index]\n",
    "        \n",
    "    pred_xgb,xg_model = runXGB(xtr,xvl,ytr,yvl,X_test_tf,n_rounds=200,eta=0.5)\n",
    "    pred_test_full += pred_xgb\n",
    "    cv_score.append(xg_model.best_score)\n",
    "    i+=1\n"
   ]
  },
  {
   "cell_type": "code",
   "execution_count": 28,
   "metadata": {},
   "outputs": [
    {
     "name": "stdout",
     "output_type": "stream",
     "text": [
      "[0.642676, 0.618098, 0.641399, 0.630906, 0.632064]\n",
      "Mean accuracy score 0.6330286\n"
     ]
    }
   ],
   "source": [
    "print(cv_score)\n",
    "print('Mean accuracy score',np.mean(cv_score))"
   ]
  },
  {
   "cell_type": "code",
   "execution_count": null,
   "metadata": {
    "collapsed": true
   },
   "outputs": [],
   "source": []
  }
 ],
 "metadata": {
  "kernelspec": {
   "display_name": "Python 3",
   "language": "python",
   "name": "python3"
  },
  "language_info": {
   "codemirror_mode": {
    "name": "ipython",
    "version": 3
   },
   "file_extension": ".py",
   "mimetype": "text/x-python",
   "name": "python",
   "nbconvert_exporter": "python",
   "pygments_lexer": "ipython3",
   "version": "3.6.4"
  }
 },
 "nbformat": 4,
 "nbformat_minor": 2
}
